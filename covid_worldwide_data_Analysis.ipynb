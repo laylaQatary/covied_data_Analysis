{
 "cells": [
  {
   "cell_type": "code",
   "execution_count": 1,
   "id": "85025b63",
   "metadata": {},
   "outputs": [],
   "source": [
    "import numpy as np\n",
    "import pandas as pd\n",
    "import matplotlib.pyplot as plt\n",
    "import seaborn as sns\n",
    "import warnings \n",
    "warnings.filterwarnings('ignore')"
   ]
  },
  {
   "cell_type": "code",
   "execution_count": 2,
   "id": "459b8831",
   "metadata": {},
   "outputs": [],
   "source": [
    "data=pd.read_csv('covid_worldwide.csv')"
   ]
  },
  {
   "cell_type": "code",
   "execution_count": 3,
   "id": "681ae270",
   "metadata": {},
   "outputs": [],
   "source": [
    "df=data.copy()"
   ]
  },
  {
   "cell_type": "code",
   "execution_count": 4,
   "id": "a65cdd33",
   "metadata": {},
   "outputs": [
    {
     "data": {
      "text/html": [
       "<div>\n",
       "<style scoped>\n",
       "    .dataframe tbody tr th:only-of-type {\n",
       "        vertical-align: middle;\n",
       "    }\n",
       "\n",
       "    .dataframe tbody tr th {\n",
       "        vertical-align: top;\n",
       "    }\n",
       "\n",
       "    .dataframe thead th {\n",
       "        text-align: right;\n",
       "    }\n",
       "</style>\n",
       "<table border=\"1\" class=\"dataframe\">\n",
       "  <thead>\n",
       "    <tr style=\"text-align: right;\">\n",
       "      <th></th>\n",
       "      <th>Serial Number</th>\n",
       "      <th>Country</th>\n",
       "      <th>Total Cases</th>\n",
       "      <th>Total Deaths</th>\n",
       "      <th>Total Recovered</th>\n",
       "      <th>Active Cases</th>\n",
       "      <th>Total Test</th>\n",
       "      <th>Population</th>\n",
       "    </tr>\n",
       "  </thead>\n",
       "  <tbody>\n",
       "    <tr>\n",
       "      <th>0</th>\n",
       "      <td>1</td>\n",
       "      <td>USA</td>\n",
       "      <td>104,196,861</td>\n",
       "      <td>1,132,935</td>\n",
       "      <td>101,322,779</td>\n",
       "      <td>1,741,147</td>\n",
       "      <td>1,159,832,679</td>\n",
       "      <td>334,805,269</td>\n",
       "    </tr>\n",
       "    <tr>\n",
       "      <th>1</th>\n",
       "      <td>2</td>\n",
       "      <td>India</td>\n",
       "      <td>44,682,784</td>\n",
       "      <td>530,740</td>\n",
       "      <td>44,150,289</td>\n",
       "      <td>1,755</td>\n",
       "      <td>915,265,788</td>\n",
       "      <td>1,406,631,776</td>\n",
       "    </tr>\n",
       "    <tr>\n",
       "      <th>2</th>\n",
       "      <td>3</td>\n",
       "      <td>France</td>\n",
       "      <td>39,524,311</td>\n",
       "      <td>164,233</td>\n",
       "      <td>39,264,546</td>\n",
       "      <td>95,532</td>\n",
       "      <td>271,490,188</td>\n",
       "      <td>65,584,518</td>\n",
       "    </tr>\n",
       "    <tr>\n",
       "      <th>3</th>\n",
       "      <td>4</td>\n",
       "      <td>Germany</td>\n",
       "      <td>37,779,833</td>\n",
       "      <td>165,711</td>\n",
       "      <td>37,398,100</td>\n",
       "      <td>216,022</td>\n",
       "      <td>122,332,384</td>\n",
       "      <td>83,883,596</td>\n",
       "    </tr>\n",
       "    <tr>\n",
       "      <th>4</th>\n",
       "      <td>5</td>\n",
       "      <td>Brazil</td>\n",
       "      <td>36,824,580</td>\n",
       "      <td>697,074</td>\n",
       "      <td>35,919,372</td>\n",
       "      <td>208,134</td>\n",
       "      <td>63,776,166</td>\n",
       "      <td>215,353,593</td>\n",
       "    </tr>\n",
       "    <tr>\n",
       "      <th>...</th>\n",
       "      <td>...</td>\n",
       "      <td>...</td>\n",
       "      <td>...</td>\n",
       "      <td>...</td>\n",
       "      <td>...</td>\n",
       "      <td>...</td>\n",
       "      <td>...</td>\n",
       "      <td>...</td>\n",
       "    </tr>\n",
       "    <tr>\n",
       "      <th>226</th>\n",
       "      <td>227</td>\n",
       "      <td>Diamond Princess</td>\n",
       "      <td>712</td>\n",
       "      <td>13</td>\n",
       "      <td>699</td>\n",
       "      <td>0</td>\n",
       "      <td>NaN</td>\n",
       "      <td>NaN</td>\n",
       "    </tr>\n",
       "    <tr>\n",
       "      <th>227</th>\n",
       "      <td>228</td>\n",
       "      <td>Vatican City</td>\n",
       "      <td>29</td>\n",
       "      <td>NaN</td>\n",
       "      <td>29</td>\n",
       "      <td>0</td>\n",
       "      <td>NaN</td>\n",
       "      <td>799</td>\n",
       "    </tr>\n",
       "    <tr>\n",
       "      <th>228</th>\n",
       "      <td>229</td>\n",
       "      <td>Western Sahara</td>\n",
       "      <td>10</td>\n",
       "      <td>1</td>\n",
       "      <td>9</td>\n",
       "      <td>0</td>\n",
       "      <td>NaN</td>\n",
       "      <td>626,161</td>\n",
       "    </tr>\n",
       "    <tr>\n",
       "      <th>229</th>\n",
       "      <td>230</td>\n",
       "      <td>MS Zaandam</td>\n",
       "      <td>9</td>\n",
       "      <td>2</td>\n",
       "      <td>7</td>\n",
       "      <td>0</td>\n",
       "      <td>NaN</td>\n",
       "      <td>NaN</td>\n",
       "    </tr>\n",
       "    <tr>\n",
       "      <th>230</th>\n",
       "      <td>231</td>\n",
       "      <td>Tokelau</td>\n",
       "      <td>5</td>\n",
       "      <td>NaN</td>\n",
       "      <td>NaN</td>\n",
       "      <td>5</td>\n",
       "      <td>NaN</td>\n",
       "      <td>1,378</td>\n",
       "    </tr>\n",
       "  </tbody>\n",
       "</table>\n",
       "<p>231 rows × 8 columns</p>\n",
       "</div>"
      ],
      "text/plain": [
       "     Serial Number           Country  Total Cases Total Deaths  \\\n",
       "0                1               USA  104,196,861    1,132,935   \n",
       "1                2             India   44,682,784      530,740   \n",
       "2                3            France   39,524,311      164,233   \n",
       "3                4           Germany   37,779,833      165,711   \n",
       "4                5            Brazil   36,824,580      697,074   \n",
       "..             ...               ...          ...          ...   \n",
       "226            227  Diamond Princess          712           13   \n",
       "227            228      Vatican City           29          NaN   \n",
       "228            229    Western Sahara           10            1   \n",
       "229            230        MS Zaandam            9            2   \n",
       "230            231           Tokelau            5          NaN   \n",
       "\n",
       "    Total Recovered Active Cases     Total Test     Population  \n",
       "0       101,322,779    1,741,147  1,159,832,679    334,805,269  \n",
       "1        44,150,289        1,755    915,265,788  1,406,631,776  \n",
       "2        39,264,546       95,532    271,490,188     65,584,518  \n",
       "3        37,398,100      216,022    122,332,384     83,883,596  \n",
       "4        35,919,372      208,134     63,776,166    215,353,593  \n",
       "..              ...          ...            ...            ...  \n",
       "226             699            0            NaN            NaN  \n",
       "227              29            0            NaN            799  \n",
       "228               9            0            NaN        626,161  \n",
       "229               7            0            NaN            NaN  \n",
       "230             NaN            5            NaN          1,378  \n",
       "\n",
       "[231 rows x 8 columns]"
      ]
     },
     "execution_count": 4,
     "metadata": {},
     "output_type": "execute_result"
    }
   ],
   "source": [
    "df"
   ]
  },
  {
   "cell_type": "code",
   "execution_count": 5,
   "id": "e45cb4b8",
   "metadata": {},
   "outputs": [
    {
     "data": {
      "text/plain": [
       "<bound method Series.duplicated of 0                   USA\n",
       "1                 India\n",
       "2                France\n",
       "3               Germany\n",
       "4                Brazil\n",
       "             ...       \n",
       "226    Diamond Princess\n",
       "227        Vatican City\n",
       "228      Western Sahara\n",
       "229          MS Zaandam\n",
       "230             Tokelau\n",
       "Name: Country, Length: 231, dtype: object>"
      ]
     },
     "execution_count": 5,
     "metadata": {},
     "output_type": "execute_result"
    }
   ],
   "source": [
    "df['Country'].duplicated"
   ]
  },
  {
   "cell_type": "code",
   "execution_count": 6,
   "id": "51bd1096",
   "metadata": {},
   "outputs": [
    {
     "data": {
      "text/html": [
       "<div>\n",
       "<style scoped>\n",
       "    .dataframe tbody tr th:only-of-type {\n",
       "        vertical-align: middle;\n",
       "    }\n",
       "\n",
       "    .dataframe tbody tr th {\n",
       "        vertical-align: top;\n",
       "    }\n",
       "\n",
       "    .dataframe thead th {\n",
       "        text-align: right;\n",
       "    }\n",
       "</style>\n",
       "<table border=\"1\" class=\"dataframe\">\n",
       "  <thead>\n",
       "    <tr style=\"text-align: right;\">\n",
       "      <th></th>\n",
       "      <th>Serial Number</th>\n",
       "      <th>Country</th>\n",
       "      <th>Total Cases</th>\n",
       "      <th>Total Deaths</th>\n",
       "      <th>Total Recovered</th>\n",
       "      <th>Active Cases</th>\n",
       "      <th>Total Test</th>\n",
       "      <th>Population</th>\n",
       "    </tr>\n",
       "  </thead>\n",
       "  <tbody>\n",
       "    <tr>\n",
       "      <th>0</th>\n",
       "      <td>1</td>\n",
       "      <td>USA</td>\n",
       "      <td>104,196,861</td>\n",
       "      <td>1,132,935</td>\n",
       "      <td>101,322,779</td>\n",
       "      <td>1,741,147</td>\n",
       "      <td>1,159,832,679</td>\n",
       "      <td>334,805,269</td>\n",
       "    </tr>\n",
       "    <tr>\n",
       "      <th>1</th>\n",
       "      <td>2</td>\n",
       "      <td>India</td>\n",
       "      <td>44,682,784</td>\n",
       "      <td>530,740</td>\n",
       "      <td>44,150,289</td>\n",
       "      <td>1,755</td>\n",
       "      <td>915,265,788</td>\n",
       "      <td>1,406,631,776</td>\n",
       "    </tr>\n",
       "    <tr>\n",
       "      <th>2</th>\n",
       "      <td>3</td>\n",
       "      <td>France</td>\n",
       "      <td>39,524,311</td>\n",
       "      <td>164,233</td>\n",
       "      <td>39,264,546</td>\n",
       "      <td>95,532</td>\n",
       "      <td>271,490,188</td>\n",
       "      <td>65,584,518</td>\n",
       "    </tr>\n",
       "    <tr>\n",
       "      <th>3</th>\n",
       "      <td>4</td>\n",
       "      <td>Germany</td>\n",
       "      <td>37,779,833</td>\n",
       "      <td>165,711</td>\n",
       "      <td>37,398,100</td>\n",
       "      <td>216,022</td>\n",
       "      <td>122,332,384</td>\n",
       "      <td>83,883,596</td>\n",
       "    </tr>\n",
       "    <tr>\n",
       "      <th>4</th>\n",
       "      <td>5</td>\n",
       "      <td>Brazil</td>\n",
       "      <td>36,824,580</td>\n",
       "      <td>697,074</td>\n",
       "      <td>35,919,372</td>\n",
       "      <td>208,134</td>\n",
       "      <td>63,776,166</td>\n",
       "      <td>215,353,593</td>\n",
       "    </tr>\n",
       "  </tbody>\n",
       "</table>\n",
       "</div>"
      ],
      "text/plain": [
       "   Serial Number  Country  Total Cases Total Deaths Total Recovered  \\\n",
       "0              1      USA  104,196,861    1,132,935     101,322,779   \n",
       "1              2    India   44,682,784      530,740      44,150,289   \n",
       "2              3   France   39,524,311      164,233      39,264,546   \n",
       "3              4  Germany   37,779,833      165,711      37,398,100   \n",
       "4              5   Brazil   36,824,580      697,074      35,919,372   \n",
       "\n",
       "  Active Cases     Total Test     Population  \n",
       "0    1,741,147  1,159,832,679    334,805,269  \n",
       "1        1,755    915,265,788  1,406,631,776  \n",
       "2       95,532    271,490,188     65,584,518  \n",
       "3      216,022    122,332,384     83,883,596  \n",
       "4      208,134     63,776,166    215,353,593  "
      ]
     },
     "execution_count": 6,
     "metadata": {},
     "output_type": "execute_result"
    }
   ],
   "source": [
    "df.head(5)"
   ]
  },
  {
   "cell_type": "code",
   "execution_count": 7,
   "id": "d7317390",
   "metadata": {},
   "outputs": [
    {
     "data": {
      "text/plain": [
       "(231, 8)"
      ]
     },
     "execution_count": 7,
     "metadata": {},
     "output_type": "execute_result"
    }
   ],
   "source": [
    "df.shape"
   ]
  },
  {
   "cell_type": "code",
   "execution_count": 8,
   "id": "f09b8e9e",
   "metadata": {
    "scrolled": true
   },
   "outputs": [
    {
     "name": "stdout",
     "output_type": "stream",
     "text": [
      "<class 'pandas.core.frame.DataFrame'>\n",
      "RangeIndex: 231 entries, 0 to 230\n",
      "Data columns (total 8 columns):\n",
      " #   Column           Non-Null Count  Dtype \n",
      "---  ------           --------------  ----- \n",
      " 0   Serial Number    231 non-null    int64 \n",
      " 1   Country          231 non-null    object\n",
      " 2   Total Cases      231 non-null    object\n",
      " 3   Total Deaths     225 non-null    object\n",
      " 4   Total Recovered  210 non-null    object\n",
      " 5   Active Cases     212 non-null    object\n",
      " 6   Total Test       213 non-null    object\n",
      " 7   Population       228 non-null    object\n",
      "dtypes: int64(1), object(7)\n",
      "memory usage: 14.6+ KB\n"
     ]
    }
   ],
   "source": [
    "df.info()"
   ]
  },
  {
   "cell_type": "markdown",
   "id": "315a5a40",
   "metadata": {},
   "source": [
    "# Dealing with String Values"
   ]
  },
  {
   "cell_type": "code",
   "execution_count": 9,
   "id": "69d4d602",
   "metadata": {},
   "outputs": [],
   "source": [
    "df['Total Cases'] = df['Total Cases'].str.replace('\\,', '', regex=True)"
   ]
  },
  {
   "cell_type": "code",
   "execution_count": 10,
   "id": "f255c14f",
   "metadata": {},
   "outputs": [],
   "source": [
    "df['Total Deaths'] = df['Total Deaths'].str.replace('\\,', '', regex=True)"
   ]
  },
  {
   "cell_type": "code",
   "execution_count": 11,
   "id": "cd983f89",
   "metadata": {},
   "outputs": [],
   "source": [
    "df['Total Recovered'] = df['Total Recovered'].str.replace('\\,', '', regex=True)"
   ]
  },
  {
   "cell_type": "code",
   "execution_count": 12,
   "id": "443cd60d",
   "metadata": {},
   "outputs": [],
   "source": [
    "df['Active Cases'] = df['Active Cases'].str.replace('\\,', '', regex=True)"
   ]
  },
  {
   "cell_type": "code",
   "execution_count": 13,
   "id": "0bdd8bb2",
   "metadata": {},
   "outputs": [],
   "source": [
    "df['Total Test'] = df['Total Test'].str.replace('\\,', '', regex=True)"
   ]
  },
  {
   "cell_type": "code",
   "execution_count": 14,
   "id": "2830a553",
   "metadata": {},
   "outputs": [],
   "source": [
    "df['Population'] = df['Population'].str.replace('\\,', '', regex=True)"
   ]
  },
  {
   "cell_type": "code",
   "execution_count": 15,
   "id": "fe609853",
   "metadata": {},
   "outputs": [
    {
     "data": {
      "text/html": [
       "<div>\n",
       "<style scoped>\n",
       "    .dataframe tbody tr th:only-of-type {\n",
       "        vertical-align: middle;\n",
       "    }\n",
       "\n",
       "    .dataframe tbody tr th {\n",
       "        vertical-align: top;\n",
       "    }\n",
       "\n",
       "    .dataframe thead th {\n",
       "        text-align: right;\n",
       "    }\n",
       "</style>\n",
       "<table border=\"1\" class=\"dataframe\">\n",
       "  <thead>\n",
       "    <tr style=\"text-align: right;\">\n",
       "      <th></th>\n",
       "      <th>Serial Number</th>\n",
       "      <th>Country</th>\n",
       "      <th>Total Cases</th>\n",
       "      <th>Total Deaths</th>\n",
       "      <th>Total Recovered</th>\n",
       "      <th>Active Cases</th>\n",
       "      <th>Total Test</th>\n",
       "      <th>Population</th>\n",
       "    </tr>\n",
       "  </thead>\n",
       "  <tbody>\n",
       "    <tr>\n",
       "      <th>0</th>\n",
       "      <td>1</td>\n",
       "      <td>USA</td>\n",
       "      <td>104196861</td>\n",
       "      <td>1132935</td>\n",
       "      <td>101322779</td>\n",
       "      <td>1741147</td>\n",
       "      <td>1159832679</td>\n",
       "      <td>334805269</td>\n",
       "    </tr>\n",
       "  </tbody>\n",
       "</table>\n",
       "</div>"
      ],
      "text/plain": [
       "   Serial Number Country Total Cases Total Deaths Total Recovered  \\\n",
       "0              1     USA   104196861      1132935       101322779   \n",
       "\n",
       "  Active Cases  Total Test Population  \n",
       "0      1741147  1159832679  334805269  "
      ]
     },
     "execution_count": 15,
     "metadata": {},
     "output_type": "execute_result"
    }
   ],
   "source": [
    "df.head(1)"
   ]
  },
  {
   "cell_type": "code",
   "execution_count": 16,
   "id": "05a3d547",
   "metadata": {},
   "outputs": [],
   "source": [
    "df['Total Cases']=df['Total Cases'].astype(int)"
   ]
  },
  {
   "cell_type": "code",
   "execution_count": 17,
   "id": "a1b6ec15",
   "metadata": {},
   "outputs": [],
   "source": [
    "df['Total Deaths']=df['Total Deaths'].astype(float)"
   ]
  },
  {
   "cell_type": "code",
   "execution_count": 18,
   "id": "75b51b1f",
   "metadata": {},
   "outputs": [],
   "source": [
    "df['Total Recovered']=df['Total Recovered'].astype(float)"
   ]
  },
  {
   "cell_type": "code",
   "execution_count": 19,
   "id": "31d5a15f",
   "metadata": {},
   "outputs": [],
   "source": [
    "df['Active Cases']=df['Active Cases'].astype(float)"
   ]
  },
  {
   "cell_type": "code",
   "execution_count": 20,
   "id": "023995c8",
   "metadata": {},
   "outputs": [],
   "source": [
    "df['Total Test']=df['Total Test'].astype(float)"
   ]
  },
  {
   "cell_type": "code",
   "execution_count": 21,
   "id": "4ffd0a13",
   "metadata": {},
   "outputs": [],
   "source": [
    "df['Population']=df['Population'].astype(float)"
   ]
  },
  {
   "cell_type": "code",
   "execution_count": 22,
   "id": "b478ca93",
   "metadata": {},
   "outputs": [
    {
     "data": {
      "text/plain": [
       "Serial Number        int64\n",
       "Country             object\n",
       "Total Cases          int32\n",
       "Total Deaths       float64\n",
       "Total Recovered    float64\n",
       "Active Cases       float64\n",
       "Total Test         float64\n",
       "Population         float64\n",
       "dtype: object"
      ]
     },
     "execution_count": 22,
     "metadata": {},
     "output_type": "execute_result"
    }
   ],
   "source": [
    "df.dtypes"
   ]
  },
  {
   "cell_type": "markdown",
   "id": "c0ccc4e4",
   "metadata": {},
   "source": [
    "# Analysis"
   ]
  },
  {
   "cell_type": "code",
   "execution_count": 23,
   "id": "fe191129",
   "metadata": {},
   "outputs": [
    {
     "data": {
      "text/plain": [
       "30057.777777777777"
      ]
     },
     "execution_count": 23,
     "metadata": {},
     "output_type": "execute_result"
    }
   ],
   "source": [
    "df['Total Deaths'].mean()"
   ]
  },
  {
   "cell_type": "code",
   "execution_count": 24,
   "id": "2d268480",
   "metadata": {},
   "outputs": [
    {
     "data": {
      "text/plain": [
       "2923460.0173160173"
      ]
     },
     "execution_count": 24,
     "metadata": {},
     "output_type": "execute_result"
    }
   ],
   "source": [
    "df['Total Cases'].mean()"
   ]
  },
  {
   "cell_type": "code",
   "execution_count": 25,
   "id": "4e1ea462",
   "metadata": {},
   "outputs": [
    {
     "data": {
      "text/plain": [
       "2993905.1285714284"
      ]
     },
     "execution_count": 25,
     "metadata": {},
     "output_type": "execute_result"
    }
   ],
   "source": [
    "df['Total Recovered'].mean()"
   ]
  },
  {
   "cell_type": "code",
   "execution_count": 26,
   "id": "baf83689",
   "metadata": {},
   "outputs": [
    {
     "data": {
      "text/plain": [
       "90998.84905660378"
      ]
     },
     "execution_count": 26,
     "metadata": {},
     "output_type": "execute_result"
    }
   ],
   "source": [
    "df['Active Cases'].mean()"
   ]
  },
  {
   "cell_type": "code",
   "execution_count": 27,
   "id": "021bc4c1",
   "metadata": {},
   "outputs": [
    {
     "data": {
      "text/plain": [
       "32493160.42253521"
      ]
     },
     "execution_count": 27,
     "metadata": {},
     "output_type": "execute_result"
    }
   ],
   "source": [
    "df['Total Test'].mean()"
   ]
  },
  {
   "cell_type": "code",
   "execution_count": 28,
   "id": "70e27491",
   "metadata": {},
   "outputs": [
    {
     "data": {
      "text/plain": [
       "28493261.978070177"
      ]
     },
     "execution_count": 28,
     "metadata": {},
     "output_type": "execute_result"
    }
   ],
   "source": [
    "df['Population'].mean()"
   ]
  },
  {
   "cell_type": "code",
   "execution_count": 29,
   "id": "6b8dcc6f",
   "metadata": {},
   "outputs": [],
   "source": [
    "df['Total Deaths'].fillna(30058,inplace=True)"
   ]
  },
  {
   "cell_type": "code",
   "execution_count": 30,
   "id": "da86a112",
   "metadata": {},
   "outputs": [],
   "source": [
    "df['Total Recovered'].fillna(2993905,inplace=True)"
   ]
  },
  {
   "cell_type": "code",
   "execution_count": 31,
   "id": "6eeaad16",
   "metadata": {},
   "outputs": [],
   "source": [
    "df['Active Cases'].fillna(90999,inplace=True)"
   ]
  },
  {
   "cell_type": "code",
   "execution_count": 32,
   "id": "55a9c57a",
   "metadata": {},
   "outputs": [],
   "source": [
    "df['Total Test'].fillna(32493160,inplace=True)"
   ]
  },
  {
   "cell_type": "code",
   "execution_count": 33,
   "id": "776180b0",
   "metadata": {},
   "outputs": [],
   "source": [
    "df['Population'].fillna(28493262,inplace=True)"
   ]
  },
  {
   "cell_type": "code",
   "execution_count": 34,
   "id": "b5b96c7c",
   "metadata": {},
   "outputs": [
    {
     "name": "stdout",
     "output_type": "stream",
     "text": [
      "<class 'pandas.core.frame.DataFrame'>\n",
      "RangeIndex: 231 entries, 0 to 230\n",
      "Data columns (total 8 columns):\n",
      " #   Column           Non-Null Count  Dtype  \n",
      "---  ------           --------------  -----  \n",
      " 0   Serial Number    231 non-null    int64  \n",
      " 1   Country          231 non-null    object \n",
      " 2   Total Cases      231 non-null    int32  \n",
      " 3   Total Deaths     231 non-null    float64\n",
      " 4   Total Recovered  231 non-null    float64\n",
      " 5   Active Cases     231 non-null    float64\n",
      " 6   Total Test       231 non-null    float64\n",
      " 7   Population       231 non-null    float64\n",
      "dtypes: float64(5), int32(1), int64(1), object(1)\n",
      "memory usage: 13.7+ KB\n"
     ]
    }
   ],
   "source": [
    "df.info()"
   ]
  },
  {
   "cell_type": "code",
   "execution_count": 41,
   "id": "45809e16",
   "metadata": {},
   "outputs": [
    {
     "data": {
      "text/plain": [
       "<AxesSubplot:xlabel='Population', ylabel='Total Test'>"
      ]
     },
     "execution_count": 41,
     "metadata": {},
     "output_type": "execute_result"
    },
    {
     "data": {
      "image/png": "[encoded data removed]",
      "text/plain": [
       "<Figure size 640x480 with 1 Axes>"
      ]
     },
     "metadata": {},
     "output_type": "display_data"
    }
   ],
   "source": [
    "sns.scatterplot('Population','Total Test',data=df,marker='*',s=200)"
   ]
  },
  {
   "cell_type": "code",
   "execution_count": 44,
   "id": "0e2b9bdb",
   "metadata": {},
   "outputs": [
    {
     "data": {
      "text/plain": [
       "<AxesSubplot:xlabel='Total Cases', ylabel='Total Test'>"
      ]
     },
     "execution_count": 44,
     "metadata": {},
     "output_type": "execute_result"
    },
    {
     "data": {
      "image/png": "[encoded data removed]",
      "text/plain": [
       "<Figure size 640x480 with 1 Axes>"
      ]
     },
     "metadata": {},
     "output_type": "display_data"
    }
   ],
   "source": [
    "sns.scatterplot('Total Cases','Total Test',data=df,marker='*',s=200)"
   ]
  },
  {
   "cell_type": "code",
   "execution_count": 43,
   "id": "9be88ab9",
   "metadata": {},
   "outputs": [
    {
     "data": {
      "text/plain": [
       "<AxesSubplot:xlabel='Total Cases', ylabel='Total Deaths'>"
      ]
     },
     "execution_count": 43,
     "metadata": {},
     "output_type": "execute_result"
    },
    {
     "data": {
      "image/png": "[encoded data removed]",
      "text/plain": [
       "<Figure size 640x480 with 1 Axes>"
      ]
     },
     "metadata": {},
     "output_type": "display_data"
    }
   ],
   "source": [
    "sns.scatterplot('Total Cases','Total Deaths',data=df,marker='*',s=200)"
   ]
  },
  {
   "cell_type": "code",
   "execution_count": 45,
   "id": "5eed86b5",
   "metadata": {},
   "outputs": [
    {
     "name": "stdout",
     "output_type": "stream",
     "text": [
      "<class 'pandas.core.frame.DataFrame'>\n",
      "RangeIndex: 231 entries, 0 to 230\n",
      "Data columns (total 8 columns):\n",
      " #   Column           Non-Null Count  Dtype  \n",
      "---  ------           --------------  -----  \n",
      " 0   Serial Number    231 non-null    int64  \n",
      " 1   Country          231 non-null    object \n",
      " 2   Total Cases      231 non-null    int32  \n",
      " 3   Total Deaths     231 non-null    float64\n",
      " 4   Total Recovered  231 non-null    float64\n",
      " 5   Active Cases     231 non-null    float64\n",
      " 6   Total Test       231 non-null    float64\n",
      " 7   Population       231 non-null    float64\n",
      "dtypes: float64(5), int32(1), int64(1), object(1)\n",
      "memory usage: 13.7+ KB\n"
     ]
    }
   ],
   "source": [
    "df.info()"
   ]
  },
  {
   "cell_type": "code",
   "execution_count": 46,
   "id": "fd270dc2",
   "metadata": {},
   "outputs": [
    {
     "data": {
      "text/plain": [
       "<AxesSubplot:xlabel='Total Cases', ylabel='Total Recovered'>"
      ]
     },
     "execution_count": 46,
     "metadata": {},
     "output_type": "execute_result"
    },
    {
     "data": {
      "image/png": "[encoded data removed]",
      "text/plain": [
       "<Figure size 640x480 with 1 Axes>"
      ]
     },
     "metadata": {},
     "output_type": "display_data"
    }
   ],
   "source": [
    "sns.scatterplot('Total Cases','Total Recovered',data=df,marker='*',s=200)"
   ]
  },
  {
   "cell_type": "code",
   "execution_count": 47,
   "id": "b7c625ec",
   "metadata": {},
   "outputs": [
    {
     "data": {
      "text/plain": [
       "<AxesSubplot:xlabel='Total Cases', ylabel='Active Cases'>"
      ]
     },
     "execution_count": 47,
     "metadata": {},
     "output_type": "execute_result"
    },
    {
     "data": {
      "image/png": "[encoded data removed]",
      "text/plain": [
       "<Figure size 640x480 with 1 Axes>"
      ]
     },
     "metadata": {},
     "output_type": "display_data"
    }
   ],
   "source": [
    "sns.scatterplot('Total Cases','Active Cases',data=df,marker='*',s=200)"
   ]
  },
  {
   "cell_type": "code",
   "execution_count": 54,
   "id": "bd01b01c",
   "metadata": {},
   "outputs": [
    {
     "data": {
      "text/plain": [
       "0    USA\n",
       "Name: Country, dtype: object"
      ]
     },
     "execution_count": 54,
     "metadata": {},
     "output_type": "execute_result"
    }
   ],
   "source": [
    "df[df['Total Deaths']==df['Total Deaths'].max()]['Country']"
   ]
  },
  {
   "cell_type": "code",
   "execution_count": 55,
   "id": "3ec5be1d",
   "metadata": {},
   "outputs": [
    {
     "data": {
      "text/plain": [
       "216             Nauru\n",
       "228    Western Sahara\n",
       "Name: Country, dtype: object"
      ]
     },
     "execution_count": 55,
     "metadata": {},
     "output_type": "execute_result"
    }
   ],
   "source": [
    "df[df['Total Deaths']==df['Total Deaths'].min()]['Country']"
   ]
  },
  {
   "cell_type": "code",
   "execution_count": 56,
   "id": "5188b265",
   "metadata": {},
   "outputs": [
    {
     "data": {
      "text/plain": [
       "0    USA\n",
       "Name: Country, dtype: object"
      ]
     },
     "execution_count": 56,
     "metadata": {},
     "output_type": "execute_result"
    }
   ],
   "source": [
    "df[df['Total Recovered']==df['Total Recovered'].max()]['Country']"
   ]
  },
  {
   "cell_type": "code",
   "execution_count": 57,
   "id": "42d471e2",
   "metadata": {},
   "outputs": [
    {
     "data": {
      "text/plain": [
       "222    Saint Helena\n",
       "Name: Country, dtype: object"
      ]
     },
     "execution_count": 57,
     "metadata": {},
     "output_type": "execute_result"
    }
   ],
   "source": [
    "df[df['Total Recovered']==df['Total Recovered'].min()]['Country']"
   ]
  },
  {
   "cell_type": "code",
   "execution_count": 58,
   "id": "6de10fb2",
   "metadata": {},
   "outputs": [
    {
     "data": {
      "text/plain": [
       "0    USA\n",
       "Name: Country, dtype: object"
      ]
     },
     "execution_count": 58,
     "metadata": {},
     "output_type": "execute_result"
    }
   ],
   "source": [
    "df[df['Total Test']==df['Total Test'].max()]['Country']"
   ]
  },
  {
   "cell_type": "code",
   "execution_count": 59,
   "id": "8b74dbbd",
   "metadata": {},
   "outputs": [
    {
     "data": {
      "text/plain": [
       "218    Macao\n",
       "Name: Country, dtype: object"
      ]
     },
     "execution_count": 59,
     "metadata": {},
     "output_type": "execute_result"
    }
   ],
   "source": [
    "df[df['Total Test']==df['Total Test'].min()]['Country']"
   ]
  },
  {
   "cell_type": "code",
   "execution_count": 60,
   "id": "69a7e3ce",
   "metadata": {},
   "outputs": [
    {
     "data": {
      "text/plain": [
       "0    USA\n",
       "Name: Country, dtype: object"
      ]
     },
     "execution_count": 60,
     "metadata": {},
     "output_type": "execute_result"
    }
   ],
   "source": [
    "df[df['Total Cases']==df['Total Cases'].max()]['Country']"
   ]
  },
  {
   "cell_type": "code",
   "execution_count": 62,
   "id": "eb02322e",
   "metadata": {},
   "outputs": [
    {
     "data": {
      "text/plain": [
       "230    Tokelau\n",
       "Name: Country, dtype: object"
      ]
     },
     "execution_count": 62,
     "metadata": {},
     "output_type": "execute_result"
    }
   ],
   "source": [
    "df[df['Total Cases']==df['Total Cases'].min()]['Country']"
   ]
  },
  {
   "cell_type": "code",
   "execution_count": null,
   "id": "6b379f78",
   "metadata": {},
   "outputs": [],
   "source": []
  }
 ],
 "metadata": {
  "kernelspec": {
   "display_name": "Python 3 (ipykernel)",
   "language": "python",
   "name": "python3"
  },
  "language_info": {
   "codemirror_mode": {
    "name": "ipython",
    "version": 3
   },
   "file_extension": ".py",
   "mimetype": "text/x-python",
   "name": "python",
   "nbconvert_exporter": "python",
   "pygments_lexer": "ipython3",
   "version": "3.9.13"
  }
 },
 "nbformat": 4,
 "nbformat_minor": 5
}
